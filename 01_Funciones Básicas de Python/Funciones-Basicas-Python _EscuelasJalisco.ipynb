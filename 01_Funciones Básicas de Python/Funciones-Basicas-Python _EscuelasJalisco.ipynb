{
 "cells": [
  {
   "cell_type": "markdown",
   "metadata": {},
   "source": [
    "\n",
    "Aproximadamente 96 de cada 100 mexicanos entre tres y catorce años de edad asiste a la escuela en los tres niveles de educación básica (preescolar, primaria y secundaria).  El 90.1% acude a escuelas públicas y el 9.9%, a escuelas privadas.\n",
    "\n",
    "https://blog.uvm.mx/10-datos-sobre-la-educacion-en-mexico\n",
    "<br>\n",
    "</td>\n",
    "</tr>\n",
    "</table>"
   ]
  },
  {
   "cell_type": "markdown",
   "metadata": {},
   "source": [
    "# Librerías"
   ]
  },
  {
   "cell_type": "markdown",
   "metadata": {
    "collapsed": true
   },
   "source": [
    "Cargamos las bibliotecas que necesitamos "
   ]
  },
  {
   "cell_type": "code",
   "execution_count": 1,
   "metadata": {},
   "outputs": [],
   "source": [
    "import csv\n",
    "import matplotlib.pyplot as plt"
   ]
  },
  {
   "cell_type": "markdown",
   "metadata": {},
   "source": [
    "# Información de los datos\n",
    "\n",
    "Fuente:\n",
    "https://datos.jalisco.gob.mx/dataset/cct-estadistica/resource/d6d05ee8-eb03-4283-bd65-684a4ccadcce#{}"
   ]
  },
  {
   "cell_type": "code",
   "execution_count": 2,
   "metadata": {
    "scrolled": true
   },
   "outputs": [],
   "source": [
    "#Leer el archivo datos/cct_estadistica_short.csv\n",
    "with open('datos/cct_estadistica_short.csv','r',encoding='ISO-8859-1') as file:\n",
    "    datos=list(csv.reader(file))\n"
   ]
  },
  {
   "cell_type": "markdown",
   "metadata": {},
   "source": [
    "<div class=\"alert alert-info\">\n",
    " <ul>\n",
    "  <li>Monstrar la primera fila del archivo</li>\n",
    "</ul> \n",
    "\n",
    "</div>"
   ]
  },
  {
   "cell_type": "code",
   "execution_count": 3,
   "metadata": {},
   "outputs": [
    {
     "name": "stdout",
     "output_type": "stream",
     "text": [
      "['CLAVE CT', 'NOM TURNO', 'NOMBRE CT', 'DOMICILIO', 'LOCALIDAD INEGI', ' NOMBRE LOCALIDAD', 'NOMBRE COLONIA', 'MUNICIPIO', 'NOMBRE MUNICIPIO', 'SOSTENIMIENTO', 'NIVEL', 'PROGRAMA', 'HOMBRES 1¡', 'MUJERES 1¡', 'TOTAL 1¡', 'HOMBRES 2¡', 'MUJERES 2¡', 'TOTAL 2¡', 'HOMBRES 3¡', 'MUJERES 3¡', 'TOTAL 3¡', 'HOMBRES 4¡', 'MUJERES 4¡', 'TOTAL 4¡', 'HOMBRES 5¡', 'MUJERES 5¡', 'TOTAL 5¡', 'HOMBRES 6¡', 'MUJERES 6¡', 'TOTAL 6¡', 'HOMBRES TOTAL', 'MUJERES TOTAL', 'MATRICULA TOTAL', 'DOCENTES', 'GRUPOS', 'DOCENETE EDUCACION FISICA', 'DOCENTE ACTIVIDADES ARTISTICAS', 'DOCENTE ACTIVIDADES TECNONOLOGICAS', 'DOCENTE DE IDIOMAS', 'PERSONAL DE ADMINISTRATIVO Y SERVICIOS', 'DIRECTOR CON GRUPO', 'DIRECTOR SIN GRUPO', 'TOTAL DE PERSONAL']\n"
     ]
    }
   ],
   "source": [
    "print(datos[0])\n"
   ]
  },
  {
   "cell_type": "markdown",
   "metadata": {},
   "source": [
    "<div class=\"alert alert-info\">\n",
    " <ul>\n",
    "  <li>Monstrar la segunda fila del archivo</li>\n",
    "</ul> \n",
    "\n",
    "</div>"
   ]
  },
  {
   "cell_type": "code",
   "execution_count": 4,
   "metadata": {},
   "outputs": [
    {
     "name": "stdout",
     "output_type": "stream",
     "text": [
      "['14DPR3480S', 'VESPERTINO', 'MIGUEL HIDALGO Y COSTILLA', 'RIO SANTIAGO', '1', 'TIZAPAN EL ALTO', 'ATRACADERO', '96', 'TIZAPAN EL ALTO', 'FEDERALIZADO', 'PRIMARIA', 'GENERAL', '4', '11', '15', '11', '8', '19', '11', '5', '16', '11', '5', '16', '5', '5', '10', '9', '8', '17', '51', '42', '93', '6', '6', '1', '0', '0', '0', '0', '0', '1', '8']\n"
     ]
    }
   ],
   "source": [
    "print(datos[1])"
   ]
  },
  {
   "cell_type": "markdown",
   "metadata": {},
   "source": [
    "\n",
    "<div class=\"alert alert-info\">\n",
    " <ul>\n",
    "  <li>Monstrar la tercera fila del archivo</li>\n",
    "</ul> \n",
    "\n",
    "</div>"
   ]
  },
  {
   "cell_type": "code",
   "execution_count": 5,
   "metadata": {},
   "outputs": [
    {
     "name": "stdout",
     "output_type": "stream",
     "text": [
      "['14DPR2780I', 'MATUTINO', 'CONSTITUCION DEL 57', 'CONOCIDO', '54', 'MESA DE MENDEZ', '0', '16', 'AYOTLAN', 'FEDERALIZADO', 'PRIMARIA', 'GENERAL', '1', '2', '3', '0', '0', '0', '1', '1', '2', '2', '0', '2', '0', '0', '0', '1', '0', '1', '5', '3', '8', '1', '1', '0', '0', '0', '0', '0', '1', '0', '1']\n"
     ]
    }
   ],
   "source": [
    "print(datos[2])"
   ]
  },
  {
   "cell_type": "markdown",
   "metadata": {},
   "source": [
    "<div class=\"alert alert-info\">\n",
    " <ul>\n",
    "  <li>Monstrar de la tercera fila del archivo, el municipio donde se encuentra la escuela </li>\n",
    "</ul> \n",
    "\n",
    "</div>"
   ]
  },
  {
   "cell_type": "code",
   "execution_count": 6,
   "metadata": {},
   "outputs": [
    {
     "name": "stdout",
     "output_type": "stream",
     "text": [
      "AYOTLAN\n"
     ]
    }
   ],
   "source": [
    "print(datos[2][8])"
   ]
  },
  {
   "cell_type": "markdown",
   "metadata": {},
   "source": [
    "<div class=\"alert alert-info\">\n",
    " <ul>\n",
    "  <li>Encuentre el número de escuelas en el archivo</li>\n",
    "</ul> \n",
    "\n",
    "</div>"
   ]
  },
  {
   "cell_type": "code",
   "execution_count": 7,
   "metadata": {},
   "outputs": [
    {
     "name": "stdout",
     "output_type": "stream",
     "text": [
      "El número total de escuelas es 3205\n"
     ]
    }
   ],
   "source": [
    "contador_escuelas=0\n",
    "for linea in datos:\n",
    "    contador_escuelas=contador_escuelas+1\n",
    "print('El número total de escuelas es',contador_escuelas-1)"
   ]
  },
  {
   "cell_type": "markdown",
   "metadata": {},
   "source": [
    "<div class=\"alert alert-info\">\n",
    " <ul>\n",
    "  <li>Encuentre el número de escuelas de nivel: PRIMARIA</li>\n",
    "</ul> \n",
    "\n",
    "</div>"
   ]
  },
  {
   "cell_type": "code",
   "execution_count": 8,
   "metadata": {},
   "outputs": [
    {
     "name": "stdout",
     "output_type": "stream",
     "text": [
      "El número total de escuelas PRIMARIA es 1278\n"
     ]
    }
   ],
   "source": [
    "contador_PRIMARIA=0\n",
    "for linea in datos:\n",
    "    if linea[10]=='PRIMARIA':\n",
    "        contador_PRIMARIA=contador_PRIMARIA+1\n",
    "print('El número total de escuelas PRIMARIA es',contador_PRIMARIA)"
   ]
  },
  {
   "cell_type": "markdown",
   "metadata": {},
   "source": [
    "<div class=\"alert alert-info\">\n",
    " <ul>\n",
    "  <li>Encuentre el porcentaje de  escuelas PREESCOLAR, PRIMARIA,  SECUNDARIA y BACHILLERATO </li>\n",
    "</ul> \n",
    "\n",
    "</div>"
   ]
  },
  {
   "cell_type": "code",
   "execution_count": 9,
   "metadata": {},
   "outputs": [
    {
     "name": "stdout",
     "output_type": "stream",
     "text": [
      "Porcentaje de escuelas PREESCOLAR: 40.343213728549145 %\n",
      "Porcentaje de escuelas PRIMARIA: 39.875195007800315 %\n",
      "Porcentaje de escuelas SECUNDARIA: 15.132605304212168 %\n",
      "Porcentaje de escuelas BACHILLERATO: 4.648985959438377 %\n"
     ]
    }
   ],
   "source": [
    "with open('datos/cct_estadistica_short.csv','r',encoding='ISO-8859-1') as file:\n",
    "    datos=list(csv.reader(file))\n",
    "\n",
    "contador_escuelas=0\n",
    "\n",
    "contador_PREESCOLAR=0\n",
    "contador_PRIMARIA=0\n",
    "contador_SECUNDARIA=0\n",
    "contador_BACHILLERATO=0\n",
    "##########\n",
    "\n",
    "for line in datos:\n",
    "    contador_escuelas+=1\n",
    "contador_escuelas=contador_escuelas-1\n",
    "\n",
    "for linea in datos:\n",
    "    if linea[10]=='PREESCOLAR':\n",
    "        contador_PREESCOLAR+=1\n",
    "    elif linea[10]=='PRIMARIA':\n",
    "        contador_PRIMARIA+=1\n",
    "    elif linea[10]=='SECUNDARIA':\n",
    "        contador_SECUNDARIA+=1\n",
    "    elif linea[10]=='BACHILLERATO':\n",
    "        contador_BACHILLERATO+=1\n",
    "\n",
    "\n",
    "print('Porcentaje de escuelas PREESCOLAR:',contador_PREESCOLAR*100/contador_escuelas,'%')\n",
    "print('Porcentaje de escuelas PRIMARIA:',contador_PRIMARIA*100/contador_escuelas,'%')\n",
    "print('Porcentaje de escuelas SECUNDARIA:',contador_SECUNDARIA*100/contador_escuelas,'%')      \n",
    "print('Porcentaje de escuelas BACHILLERATO:',contador_BACHILLERATO*100/contador_escuelas,'%')"
   ]
  },
  {
   "cell_type": "markdown",
   "metadata": {},
   "source": [
    "<div class=\"alert alert-info\">\n",
    " <ul>\n",
    "  <li>Encuentre el numero total de estudiantes en nivel PRIMARIA</li>\n",
    "</ul> \n",
    "\n",
    "</div>"
   ]
  },
  {
   "cell_type": "code",
   "execution_count": 10,
   "metadata": {},
   "outputs": [
    {
     "name": "stdout",
     "output_type": "stream",
     "text": [
      "El número total de estudiantes a nivel PRIMARIA es 196298\n"
     ]
    }
   ],
   "source": [
    "with open('datos/cct_estadistica_short.csv','r',encoding='ISO-8859-1') as file:\n",
    "    datos=list(csv.reader(file))\n",
    "    \n",
    "contador_estudiantes_PRIMARIA=0\n",
    "for linea in datos:\n",
    "    if linea[10]=='PRIMARIA':\n",
    "        contador_estudiantes_PRIMARIA=contador_estudiantes_PRIMARIA+int(linea[32])\n",
    "print('El número total de estudiantes a nivel PRIMARIA es',contador_estudiantes_PRIMARIA)\n",
    "        \n",
    "\n"
   ]
  },
  {
   "cell_type": "markdown",
   "metadata": {},
   "source": [
    "<div class=\"alert alert-info\">\n",
    " <ul>\n",
    "  <li>Encuentre el numero total de estudiantes hombres y mujeres en nivel PRIMARIA </li>\n",
    "</ul> \n",
    "\n",
    "</div>"
   ]
  },
  {
   "cell_type": "code",
   "execution_count": 11,
   "metadata": {},
   "outputs": [
    {
     "name": "stdout",
     "output_type": "stream",
     "text": [
      "Número total de mujeres en nivel PRIMARIA: 99972\n",
      "Número total de hombres en nivel PRIMARIA: 96326\n"
     ]
    }
   ],
   "source": [
    "contador_estudiantes_hombres_PRIMARIA=0\n",
    "contador_estudiantes_mujeres_PRIMARIA=0\n",
    "\n",
    "with open('datos/cct_estadistica_short.csv','r',encoding='ISO-8859-1') as file:\n",
    "    datos=list(csv.reader(file))\n",
    "\n",
    "for linea in datos:\n",
    "    if linea[10]=='PRIMARIA':\n",
    "        contador_estudiantes_mujeres_PRIMARIA=contador_estudiantes_mujeres_PRIMARIA+int(linea[30])\n",
    "        contador_estudiantes_hombres_PRIMARIA=contador_estudiantes_hombres_PRIMARIA+int(linea[31])\n",
    "print('Número total de mujeres en nivel PRIMARIA:',contador_estudiantes_mujeres_PRIMARIA)\n",
    "print('Número total de hombres en nivel PRIMARIA:',contador_estudiantes_hombres_PRIMARIA)"
   ]
  },
  {
   "cell_type": "markdown",
   "metadata": {},
   "source": [
    "<div class=\"alert alert-info\">\n",
    " <ul>\n",
    "  <li>Encuentre el numero total de municipios con el string \"ZAPO\" , ejemplo ZAPOPAN, ZAPOTILTIC, etc </li>\n",
    "</ul> \n",
    "\n",
    "</div>"
   ]
  },
  {
   "cell_type": "code",
   "execution_count": 12,
   "metadata": {},
   "outputs": [
    {
     "name": "stdout",
     "output_type": "stream",
     "text": [
      "461 municipios con el string ZAPO\n"
     ]
    }
   ],
   "source": [
    "with open('datos/cct_estadistica_short.csv','r',encoding='ISO-8859-1') as file:\n",
    "    datos=list(csv.reader(file))\n",
    "\n",
    "contador_municipios_ZAPO=0\n",
    "for linea in datos:\n",
    "    if 'ZAPO' in linea[8]:\n",
    "        contador_municipios_ZAPO+=1\n",
    "\n",
    "print(contador_municipios_ZAPO, 'municipios con el string ZAPO')\n"
   ]
  },
  {
   "cell_type": "markdown",
   "metadata": {},
   "source": [
    "# TAREA"
   ]
  },
  {
   "cell_type": "markdown",
   "metadata": {},
   "source": [
    "<div class=\"alert alert-success\">\n",
    " <ul>\n",
    "  <li>1. Encuentre el número de estudiantes por nivel educativo (PRIMARIA, SECUNDARIA y BACHILLERATO). ¿Qué puede decir acerca de los resultados?</li>\n",
    "</ul> \n",
    "\n",
    "</div>"
   ]
  },
  {
   "cell_type": "code",
   "execution_count": 13,
   "metadata": {},
   "outputs": [
    {
     "name": "stdout",
     "output_type": "stream",
     "text": [
      "Número total de estudiantes de PRIMARIA: 196298\n",
      "Número total de estudiantes de SECUNDARIA: 102051\n",
      "Número total de estudiantes de BACHILLERATO: 29768\n"
     ]
    }
   ],
   "source": [
    "with open('datos/cct_estadistica_short.csv','r',encoding='ISO-8859-1') as file:\n",
    "    datos=list(csv.reader(file))\n",
    "    \n",
    "contador_estudiantes_PRIMARIA=0\n",
    "contador_estudiantes_SECUNDARIA=0\n",
    "contador_estudiantes_BACHILLERATO=0\n",
    "\n",
    "for linea in datos:\n",
    "    if linea[10]=='PRIMARIA':\n",
    "        contador_estudiantes_PRIMARIA=contador_estudiantes_PRIMARIA+int(linea[32])\n",
    "    elif linea[10]=='SECUNDARIA':\n",
    "        contador_estudiantes_SECUNDARIA=contador_estudiantes_SECUNDARIA+int(linea[32])\n",
    "    elif linea[10]=='BACHILLERATO':\n",
    "        contador_estudiantes_BACHILLERATO=contador_estudiantes_BACHILLERATO+int(linea[32])\n",
    "        \n",
    "print('Número total de estudiantes de PRIMARIA:',contador_estudiantes_PRIMARIA)\n",
    "print('Número total de estudiantes de SECUNDARIA:',contador_estudiantes_SECUNDARIA)\n",
    "print('Número total de estudiantes de BACHILLERATO:',contador_estudiantes_BACHILLERATO)"
   ]
  },
  {
   "cell_type": "markdown",
   "metadata": {},
   "source": [
    "<div class=\"alert alert-success\">\n",
    " <ul>\n",
    "  <li>2. Encuentre el número de estudiantes hombres y mujeres por nivel educativo (PRIMARIA, SECUNDARIA y BACHILLERATO). ¿Qué puede decir acerca de los resultados?.  </li>\n",
    "</ul> \n",
    "\n",
    "</div>"
   ]
  },
  {
   "cell_type": "code",
   "execution_count": 14,
   "metadata": {},
   "outputs": [
    {
     "name": "stdout",
     "output_type": "stream",
     "text": [
      "Número total de mujeres en PRIMARIA: 99972\n",
      "Número total de hombres en PRIMARIA: 96326\n",
      "Número total de mujeres en SECUNDARIA: 51867\n",
      "Número total de hombres en SECUNDARIA: 50184\n",
      "Número total de mujeres en BACHILLERATO: 15453\n",
      "Número total de hombres en BACHILLERATO: 14315\n"
     ]
    }
   ],
   "source": [
    "with open('datos/cct_estadistica_short.csv','r',encoding='ISO-8859-1') as file:\n",
    "    datos=list(csv.reader(file))\n",
    "contador_estudiantes_mujeres_PRIMARIA=0\n",
    "contador_estudiantes_mujeres_SECUNDARIA=0\n",
    "contador_estudiantes_mujeres_BACHILLERATO=0\n",
    "\n",
    "contador_estudiantes_hombres_PRIMARIA=0\n",
    "contador_estudiantes_hombres_SECUNDARIA=0\n",
    "contador_estudiantes_hombres_BACHILLERATO=0\n",
    "\n",
    "for linea in datos:\n",
    "    if linea[10]=='PRIMARIA':\n",
    "        contador_estudiantes_mujeres_PRIMARIA=contador_estudiantes_mujeres_PRIMARIA+int(linea[30])\n",
    "        contador_estudiantes_hombres_PRIMARIA=contador_estudiantes_hombres_PRIMARIA+int(linea[31])\n",
    "    elif linea[10]=='SECUNDARIA':\n",
    "        contador_estudiantes_mujeres_SECUNDARIA=contador_estudiantes_mujeres_SECUNDARIA+int(linea[30])\n",
    "        contador_estudiantes_hombres_SECUNDARIA=contador_estudiantes_hombres_SECUNDARIA+int(linea[31])\n",
    "    elif linea[10]=='BACHILLERATO':\n",
    "        contador_estudiantes_mujeres_BACHILLERATO=contador_estudiantes_mujeres_BACHILLERATO+int(linea[30])\n",
    "        contador_estudiantes_hombres_BACHILLERATO=contador_estudiantes_hombres_BACHILLERATO+int(linea[31])\n",
    "print('Número total de mujeres en PRIMARIA:',contador_estudiantes_mujeres_PRIMARIA)\n",
    "print('Número total de hombres en PRIMARIA:',contador_estudiantes_hombres_PRIMARIA)   \n",
    "\n",
    "print('Número total de mujeres en SECUNDARIA:',contador_estudiantes_mujeres_SECUNDARIA)\n",
    "print('Número total de hombres en SECUNDARIA:',contador_estudiantes_hombres_SECUNDARIA) \n",
    "\n",
    "print('Número total de mujeres en BACHILLERATO:',contador_estudiantes_mujeres_BACHILLERATO)\n",
    "print('Número total de hombres en BACHILLERATO:',contador_estudiantes_hombres_BACHILLERATO) "
   ]
  },
  {
   "cell_type": "markdown",
   "metadata": {},
   "source": [
    "<div class=\"alert alert-success\">\n",
    " <ul>\n",
    "  <li> 3. ¿Cuál es el promedio de docentes por nivel educativo?  </li>\n",
    "</ul> \n",
    "\n",
    "</div>"
   ]
  },
  {
   "cell_type": "code",
   "execution_count": 15,
   "metadata": {},
   "outputs": [
    {
     "name": "stdout",
     "output_type": "stream",
     "text": [
      "TOTAL DE DOCENTES:  18240\n",
      "PROMEDIO DOCENTES PREESCOLAR:  2.6612529002320184\n",
      "PROMEDIO DOCENTES PRIMARIA:  5.662754303599374\n",
      "PROMEDIO DOCENTES SECUNDARIA:  12.412371134020619\n",
      "PROMEDIO DOCENTES BACHILLERATO:  10.348993288590604\n"
     ]
    }
   ],
   "source": [
    "with open('datos/cct_estadistica_short.csv','r',encoding='ISO-8859-1') as file:\n",
    "    datos=list(csv.reader(file))\n",
    "\n",
    "numero_total_docentes_PREESCOLAR=0\n",
    "numero_total_docentes_PRIMARIA=0\n",
    "numero_total_docentes_SECUNDARIA=0\n",
    "numero_total_docentes_BACHILLERATO=0\n",
    "numero_total_docentes=0\n",
    "#\n",
    "numero_total_escuelas_PREESCOLAR=0\n",
    "numero_total_escuelas_PRIMARIA=0\n",
    "numero_total_escuelas_SECUNDARIA=0\n",
    "numero_total_escuelas_BACHILLERATO=0\n",
    "\n",
    "for linea in datos:\n",
    "    if linea[10]=='PREESCOLAR':\n",
    "        numero_total_docentes_PREESCOLAR+=int(linea[33])\n",
    "        numero_total_escuelas_PREESCOLAR+=1\n",
    "    elif linea[10]=='PRIMARIA':\n",
    "        numero_total_docentes_PRIMARIA+=int(linea[33])\n",
    "        numero_total_escuelas_PRIMARIA+=1\n",
    "    elif linea[10]=='SECUNDARIA':\n",
    "        numero_total_docentes_SECUNDARIA+=int(linea[33])\n",
    "        numero_total_escuelas_SECUNDARIA+=1\n",
    "    elif linea[10]=='BACHILLERATO':\n",
    "        numero_total_docentes_BACHILLERATO+=int(linea[33])\n",
    "        numero_total_escuelas_BACHILLERATO+=1\n",
    "\n",
    "numero_total_docentes=numero_total_docentes_PREESCOLAR+numero_total_docentes_PRIMARIA+numero_total_docentes_SECUNDARIA+numero_total_docentes_BACHILLERATO\n",
    "print('TOTAL DE DOCENTES: ',numero_total_docentes)\n",
    "\n",
    "print('PROMEDIO DOCENTES PREESCOLAR: ',numero_total_docentes_PREESCOLAR/numero_total_escuelas_PREESCOLAR)\n",
    "print('PROMEDIO DOCENTES PRIMARIA: ',numero_total_docentes_PRIMARIA/numero_total_escuelas_PRIMARIA)\n",
    "print('PROMEDIO DOCENTES SECUNDARIA: ',numero_total_docentes_SECUNDARIA/numero_total_escuelas_SECUNDARIA)\n",
    "print('PROMEDIO DOCENTES BACHILLERATO: ',numero_total_docentes_BACHILLERATO/numero_total_escuelas_BACHILLERATO)\n",
    "        "
   ]
  },
  {
   "cell_type": "markdown",
   "metadata": {},
   "source": [
    "<div class=\"alert alert-success\">\n",
    " <ul>\n",
    "  <li> 4. Encuentre el porcentaje de  escuelas Particulares </li>\n",
    "</ul> \n",
    "\n",
    "</div>\n"
   ]
  },
  {
   "cell_type": "code",
   "execution_count": 16,
   "metadata": {},
   "outputs": [
    {
     "name": "stdout",
     "output_type": "stream",
     "text": [
      "Porcentaje de escuelas privadas: 17.259675405742822 %\n"
     ]
    }
   ],
   "source": [
    "with open('datos/cct_estadistica_short.csv','r',encoding='ISO-8859-1') as file:\n",
    "    datos=list(csv.reader(file))\n",
    "\n",
    "numero_escuelas_PARTICULAR=0\n",
    "    \n",
    "for linea in datos:\n",
    "    if linea[9]=='PARTICULAR':\n",
    "        numero_escuelas_PARTICULAR+=1\n",
    "print('Porcentaje de escuelas privadas:',numero_escuelas_PARTICULAR*100/(contador_escuelas-1),'%')\n",
    "        \n",
    "    \n",
    "    "
   ]
  },
  {
   "cell_type": "markdown",
   "metadata": {},
   "source": [
    "<div class=\"alert alert-success\">\n",
    " <ul>\n",
    "  <li> 5. Realizar algún análisis adicional  </li>\n",
    "</ul> \n",
    "\n",
    "</div>"
   ]
  },
  {
   "cell_type": "code",
   "execution_count": 20,
   "metadata": {},
   "outputs": [
    {
     "name": "stdout",
     "output_type": "stream",
     "text": [
      "Los 5 municipios conn mayor numero de estudiantes son: [(69977, 'GUADALAJARA'), (65650, 'ZAPOPAN'), (31414, 'TLAJOMULCO DE ZU\\x84IGA'), (28727, 'SAN PEDRO TLAQUEPAQUE'), (21895, 'TONALA')]\n"
     ]
    }
   ],
   "source": [
    "with open('datos/cct_estadistica_short.csv','r',encoding='ISO-8859-1') as file:\n",
    "    datos=list(csv.reader(file))\n",
    "\n",
    "conteo_municipios1={}\n",
    "\n",
    "for linea in datos[1:]:\n",
    "    if linea[8] in conteo_municipios1:\n",
    "        conteo_municipios1[linea[8]]+=int(linea[32])\n",
    "    else:\n",
    "        conteo_municipios1[linea[8]]=int(linea[32])\n",
    "    \n",
    "#conteo_municipios[linea[7]] = conteo_municipios.get(linea[7], 0) + 1\n",
    "\n",
    "lista = []\n",
    "for key, val in conteo_municipios1.items():\n",
    "    lista.append((val, key))\n",
    "\n",
    "ordenamineto = sorted(lista,reverse=True)\n",
    "\n",
    "print('Los 5 municipios conn mayor numero de estudiantes son:',ordenamineto[:5])"
   ]
  },
  {
   "cell_type": "markdown",
   "metadata": {},
   "source": [
    "\n",
    "\n",
    "1. ¿Cuáles los 5 municipios con el mayor número de escuelas y cuantas tienen?\n",
    "    \n",
    "<br>\n",
    "</td>\n",
    "</tr>\n",
    "</table>"
   ]
  },
  {
   "cell_type": "code",
   "execution_count": 18,
   "metadata": {},
   "outputs": [
    {
     "name": "stdout",
     "output_type": "stream",
     "text": [
      "[(387, 'GUADALAJARA'), (346, 'ZAPOPAN'), (117, 'SAN PEDRO TLAQUEPAQUE'), (111, 'TLAJOMULCO DE ZU\\x84IGA'), (103, 'TONALA')]\n"
     ]
    }
   ],
   "source": [
    "with open('datos/cct_estadistica_short.csv','r',encoding='ISO-8859-1') as file:\n",
    "    datos=list(csv.reader(file))\n",
    "\n",
    "conteo_municipios2={}\n",
    "\n",
    "for linea in datos:\n",
    "    if linea[8] in conteo_municipios2:\n",
    "        conteo_municipios2[linea[8]]+=1\n",
    "    else:\n",
    "        conteo_municipios2[linea[8]]=1\n",
    "    \n",
    "#conteo_municipios[linea[7]] = conteo_municipios.get(linea[7], 0) + 1\n",
    "\n",
    "lista = []\n",
    "for key, val in conteo_municipios2.items():\n",
    "    lista.append((val, key))\n",
    "\n",
    "ordenamineto = sorted(lista,reverse=True)\n",
    "\n",
    "print(ordenamineto[:5])\n"
   ]
  }
 ],
 "metadata": {
  "kernelspec": {
   "display_name": "Python 3 (ipykernel)",
   "language": "python",
   "name": "python3"
  },
  "language_info": {
   "codemirror_mode": {
    "name": "ipython",
    "version": 3
   },
   "file_extension": ".py",
   "mimetype": "text/x-python",
   "name": "python",
   "nbconvert_exporter": "python",
   "pygments_lexer": "ipython3",
   "version": "3.11.2"
  }
 },
 "nbformat": 4,
 "nbformat_minor": 4
}
