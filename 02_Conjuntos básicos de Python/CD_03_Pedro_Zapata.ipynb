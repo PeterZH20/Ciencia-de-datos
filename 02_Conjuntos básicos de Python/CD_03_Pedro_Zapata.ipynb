{
 "cells": [
  {
   "cell_type": "markdown",
   "metadata": {},
   "source": [
    "\n",
    "En México, se registran anualmente un promedio de 8 mil incendios forestales que afectan los diferentes ecosistemas terrestres en diversos grados. El año de 1998 ha sido considerado el de mayor desastre a nivel nacional, con 14 mil 428 incendios y 848 mil 960 hectáreas afectadas.  \n",
    "\n",
    "https://datos.gob.mx/busca/dataset/incendios-forestales\n",
    "\n",
    " <br>\n",
    "</td>\n",
    "</tr>\n",
    "</table>"
   ]
  },
  {
   "cell_type": "markdown",
   "metadata": {},
   "source": [
    "# Librerías"
   ]
  },
  {
   "cell_type": "markdown",
   "metadata": {
    "collapsed": true,
    "jupyter": {
     "outputs_hidden": true
    }
   },
   "source": [
    "Cargamos las bibliotecas que necesitamos "
   ]
  },
  {
   "cell_type": "code",
   "execution_count": 1,
   "metadata": {},
   "outputs": [],
   "source": [
    "import csv\n",
    "import matplotlib.pyplot as plt"
   ]
  },
  {
   "cell_type": "markdown",
   "metadata": {},
   "source": [
    "# Información de los datos\n",
    "\n",
    "Fuente:\n",
    "https://datos.gob.mx/busca/dataset/incendios-forestales"
   ]
  },
  {
   "cell_type": "code",
   "execution_count": 2,
   "metadata": {},
   "outputs": [
    {
     "name": "stderr",
     "output_type": "stream",
     "text": [
      "IOPub data rate exceeded.\n",
      "The Jupyter server will temporarily stop sending output\n",
      "to the client in order to avoid crashing it.\n",
      "To change this limit, set the config variable\n",
      "`--ServerApp.iopub_data_rate_limit`.\n",
      "\n",
      "Current values:\n",
      "ServerApp.iopub_data_rate_limit=1000000.0 (bytes/sec)\n",
      "ServerApp.rate_limit_window=3.0 (secs)\n",
      "\n"
     ]
    }
   ],
   "source": [
    "#  En caso de error, cerrar y colocar en el CMD\n",
    "#  jupyter notebook --NotebookApp.iopub_data_rate_limit=1e10\n",
    "\n",
    "with open('datos/BD_IncendiosSNIF_2021.csv') as archivo_csv:\n",
    "    datos = csv.reader(archivo_csv)\n",
    "    print(list(datos))"
   ]
  },
  {
   "cell_type": "markdown",
   "metadata": {},
   "source": [
    "# TAREA"
   ]
  },
  {
   "cell_type": "markdown",
   "metadata": {},
   "source": [
    "<div class=\"alert alert-success\">\n",
    " <ul>\n",
    "  <li>1. Encuentre el total  de hectáreas afectadas </li>\n",
    "\n",
    "</ul> \n",
    "\n",
    "</div>"
   ]
  },
  {
   "cell_type": "code",
   "execution_count": 3,
   "metadata": {},
   "outputs": [
    {
     "name": "stdout",
     "output_type": "stream",
     "text": [
      "Hectareas afectadas: 660734.5697619981\n"
     ]
    }
   ],
   "source": [
    "with open('datos/BD_IncendiosSNIF_2021.csv') as archivo_csv:\n",
    "    datos = csv.reader(archivo_csv)\n",
    "    total_hectareas=0\n",
    "    for dato in list(datos)[1:]:\n",
    "        total_hectareas+=float(dato[-5])\n",
    "    print('Hectareas afectadas:',total_hectareas)"
   ]
  },
  {
   "cell_type": "markdown",
   "metadata": {},
   "source": [
    "<div class=\"alert alert-success\">\n",
    " <ul>\n",
    "  <li>2. ¿En donde fue (estado y municipio) el incendio con mayor número de hectáreas afectadas y cuantas fueron  ?</li>\n",
    "\n",
    "</ul> \n",
    "\n",
    "</div>"
   ]
  },
  {
   "cell_type": "code",
   "execution_count": 4,
   "metadata": {},
   "outputs": [
    {
     "name": "stdout",
     "output_type": "stream",
     "text": [
      "(19102.32, 'Guerrero', 'Coyuca de Catalán')\n"
     ]
    }
   ],
   "source": [
    "with open('datos/BD_IncendiosSNIF_2021.csv') as archivo_csv:\n",
    "    datos = csv.reader(archivo_csv)\n",
    "    hectareas=[]\n",
    "    for dato in list(datos)[1:]:\n",
    "        hectareas.append((float(dato[-5]),dato[11],dato[12]))\n",
    "        #i+=1\n",
    "    ordenamineto = sorted(hectareas,reverse=True)\n",
    "    print(ordenamineto[0])\n",
    "    \n",
    "#hacer como el la tarea 2 ara el total de alumnos por estado"
   ]
  },
  {
   "cell_type": "markdown",
   "metadata": {},
   "source": [
    "<div class=\"alert alert-success\">\n",
    " <ul>\n",
    "  <li>3. Encuentre el número de incendios por tipo </li>\n",
    "     \n",
    "* De copa\n",
    "* Mixto\n",
    "* Subterráneo\n",
    "* Superficial\n",
    "\n",
    "</ul> \n",
    "\n",
    "</div>"
   ]
  },
  {
   "cell_type": "code",
   "execution_count": 5,
   "metadata": {},
   "outputs": [
    {
     "name": "stdout",
     "output_type": "stream",
     "text": [
      "No. Incendios de tipo copa: 1\n",
      "No. Incendios de tipo mixto: 353\n",
      "No. Incendios de tipo subterráneo: 11\n",
      "No. Incendios de tipo superficial: 6971\n"
     ]
    }
   ],
   "source": [
    "with open('datos/BD_IncendiosSNIF_2021.csv') as archivo_csv:\n",
    "    datos = list(csv.reader(archivo_csv))\n",
    "\n",
    "    numero_copa=0\n",
    "    numero_mixto=0\n",
    "    numero_sub=0\n",
    "    numero_sup=0\n",
    "\n",
    "    for dato in datos:\n",
    "        if dato[23]=='De copa':\n",
    "            numero_copa+=1\n",
    "        elif dato[23]=='Mixto':\n",
    "            numero_mixto+=1\n",
    "        elif dato[23]=='Subterráneo':\n",
    "            numero_sub+=1\n",
    "        elif dato[23]=='Superficial':\n",
    "            numero_sup+=1\n",
    "    print('No. Incendios de tipo copa:',numero_copa)\n",
    "    print('No. Incendios de tipo mixto:',numero_mixto)\n",
    "    print('No. Incendios de tipo subterráneo:',numero_sub)\n",
    "    print('No. Incendios de tipo superficial:',numero_sup)\n",
    "    "
   ]
  },
  {
   "cell_type": "markdown",
   "metadata": {},
   "source": [
    "<div class=\"alert alert-success\">\n",
    " <ul>\n",
    "  <li>4. Encuentre el número de incendios reportados por estado </li>\n",
    "     \n",
    "</ul> \n",
    "\n",
    "</div>"
   ]
  },
  {
   "cell_type": "code",
   "execution_count": 6,
   "metadata": {},
   "outputs": [
    {
     "name": "stdout",
     "output_type": "stream",
     "text": [
      "[(1494, 'México'), (1031, 'Jalisco'), (896, 'Ciudad de México'), (657, 'Chihuahua'), (636, 'Michoacán'), (313, 'Puebla'), (278, 'Chiapas'), (275, 'Tlaxcala'), (270, 'Durango'), (198, 'Guerrero'), (158, 'Veracruz'), (154, 'Morelos'), (151, 'Oaxaca'), (103, 'Nayarit'), (92, 'Zacatecas'), (79, 'Baja California'), (78, 'San Luis Potosí'), (70, 'Hidalgo'), (53, 'Coahuila'), (51, 'Querétaro'), (51, 'Nuevo León'), (38, 'Colima'), (37, 'Aguascalientes'), (33, 'Quintana Roo'), (31, 'Sonora'), (25, 'Tamaulipas'), (25, 'Guanajuato'), (23, 'Sinaloa'), (15, 'Yucatán'), (12, 'Tabasco'), (5, 'Campeche'), (5, 'Baja California Sur')]\n"
     ]
    }
   ],
   "source": [
    "with open('datos/BD_IncendiosSNIF_2021.csv') as archivo_csv:\n",
    "    datos = list(csv.reader(archivo_csv))\n",
    "\n",
    "    estados={}\n",
    "    for dato in datos[1:]:\n",
    "        if dato[11] in estados:\n",
    "            estados[dato[11]]+=1\n",
    "        else:\n",
    "            estados[dato[11]]=1\n",
    "    \n",
    "    lista = []\n",
    "    for key, val in estados.items():\n",
    "        lista.append((val, key))\n",
    "\n",
    "    ordenamineto = sorted(lista,reverse=True)\n",
    "\n",
    "    print(ordenamineto[:])"
   ]
  },
  {
   "cell_type": "markdown",
   "metadata": {},
   "source": [
    "<div class=\"alert alert-success\">\n",
    " <ul>\n",
    "  <li> 5. Encuentre el número de incendios reportados en los municipios de Yucatán </li>\n",
    "</ul> \n",
    "\n",
    "</div>"
   ]
  },
  {
   "cell_type": "code",
   "execution_count": 7,
   "metadata": {},
   "outputs": [
    {
     "name": "stdout",
     "output_type": "stream",
     "text": [
      "Yucatán tuvo 15 incendios\n"
     ]
    }
   ],
   "source": [
    "with open('datos/BD_IncendiosSNIF_2021.csv') as archivo_csv:\n",
    "    datos = list(csv.reader(archivo_csv))\n",
    "\n",
    "    ycatan=0\n",
    "    for dato in datos[1:]:\n",
    "        if dato[11]=='Yucatán':\n",
    "            ycatan+=1\n",
    "    print('Yucatán tuvo',ycatan,'incendios')"
   ]
  }
 ],
 "metadata": {
  "kernelspec": {
   "display_name": "Python 3 (ipykernel)",
   "language": "python",
   "name": "python3"
  },
  "language_info": {
   "codemirror_mode": {
    "name": "ipython",
    "version": 3
   },
   "file_extension": ".py",
   "mimetype": "text/x-python",
   "name": "python",
   "nbconvert_exporter": "python",
   "pygments_lexer": "ipython3",
   "version": "3.11.5"
  }
 },
 "nbformat": 4,
 "nbformat_minor": 4
}
